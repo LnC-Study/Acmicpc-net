{
 "cells": [
  {
   "cell_type": "code",
   "execution_count": 17,
   "metadata": {},
   "outputs": [
    {
     "name": "stdout",
     "output_type": "stream",
     "text": [
      "1\n",
      "32888 2\n",
      "#1 88832\n"
     ]
    }
   ],
   "source": [
    "def check_dup(_list):\n",
    "    check_list = list(set(_list))\n",
    "    if len(_list) == len(check_list): return False\n",
    "    else: return True\n",
    "\n",
    "def identify_max(_subcase, _N):\n",
    "    _subcase = list(_subcase)\n",
    "    check_subcase = copy(_subcase)\n",
    "    check_subcase = sorted(check_subcase, reverse=True)\n",
    "    cnt = xor(_subcase, check_subcase)\n",
    "    if cnt/2 <= _N: return check_subcase, _N - cnt/2\n",
    "    \n",
    "    size = len(_subcase)\n",
    "    for i in range(size - 1):\n",
    "        if _N == 0: break\n",
    "        index = size  - 1\n",
    "        for j in range(size - 2, i, -1):\n",
    "            if int(_subcase[index]) < int(_subcase[j]): index = j\n",
    "        if int(_subcase[i]) < int(_subcase[index]):\n",
    "            temp = _subcase[i]\n",
    "            _subcase[i] = _subcase[index]\n",
    "            _subcase[index] = temp\n",
    "            _N = _N - 1\n",
    "    return _subcase, _N\n",
    "            \n",
    "def copy(_list):\n",
    "    new_list = []\n",
    "    for i in range(len(_list)): new_list.append(_list[i])\n",
    "    return new_list\n",
    "    \n",
    "def xor(_list01, _list02):\n",
    "    cnt = 0\n",
    "    for i in range(len(_list01)):\n",
    "        if _list01[i] != _list02[i]: cnt = cnt + 1\n",
    "    return cnt\n",
    "    \n",
    "def sol(_subcase, _N):\n",
    "    _subcase, _N = identify_max(_subcase, _N)\n",
    "    if _N == 0: return int(\"\".join(_subcase))\n",
    "    else:\n",
    "        if check_dup(_subcase): return int(\"\".join(_subcase))\n",
    "        else:\n",
    "            if _N%2 == 0: return int(\"\".join(_subcase))\n",
    "            else:\n",
    "                temp = _subcase[len(_subcase) - 1]\n",
    "                _subcase[len(_subcase) - 1] = _subcase[len(_subcase) - 2]\n",
    "                _subcase[len(_subcase) - 2] = temp\n",
    "                return int(\"\".join(_subcase))\n",
    "\n",
    "if __name__ == '__main__':\n",
    "    T = int(input())\n",
    "    for i in range(T):\n",
    "        case, n = input().split()\n",
    "        print(\"#\" + str(i + 1), sol(case, int(n)))"
   ]
  },
  {
   "cell_type": "code",
   "execution_count": null,
   "metadata": {
    "collapsed": true
   },
   "outputs": [],
   "source": [
    "10\n",
    "123 1\n",
    "2737 1\n",
    "757148 1\n",
    "78466 2\n",
    "\n",
    "\n",
    "32888 2\n",
    "\n",
    "\n",
    "777770 5\n",
    "436659 2\n",
    "431159 7\n",
    "112233 3\n",
    "456789 10"
   ]
  },
  {
   "cell_type": "code",
   "execution_count": null,
   "metadata": {
    "collapsed": true
   },
   "outputs": [],
   "source": []
  },
  {
   "cell_type": "code",
   "execution_count": null,
   "metadata": {
    "collapsed": true
   },
   "outputs": [],
   "source": []
  },
  {
   "cell_type": "code",
   "execution_count": null,
   "metadata": {
    "collapsed": true
   },
   "outputs": [],
   "source": []
  }
 ],
 "metadata": {
  "kernelspec": {
   "display_name": "Python 3",
   "language": "python",
   "name": "python3"
  }
 },
 "nbformat": 4,
 "nbformat_minor": 2
}
