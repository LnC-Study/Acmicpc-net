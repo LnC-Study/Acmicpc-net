{
 "cells": [
  {
   "cell_type": "code",
   "execution_count": 1,
   "metadata": {},
   "outputs": [
    {
     "name": "stdout",
     "output_type": "stream",
     "text": [
      "2\n",
      "5\n",
      "my\n",
      "name\n",
      "is\n",
      "ho\n",
      "seok\n",
      "#1\n",
      "ho\n",
      "is\n",
      "my\n",
      "name\n",
      "seok\n",
      "12\n",
      "s\n",
      "a\n",
      "m\n",
      "s\n",
      "u\n",
      "n\n",
      "g\n",
      "j\n",
      "j\n",
      "a\n",
      "n\n",
      "g\n",
      "#2\n",
      "a\n",
      "g\n",
      "j\n",
      "m\n",
      "n\n",
      "s\n",
      "u\n"
     ]
    }
   ],
   "source": [
    "ALPHABET = list('abcdefghijklmnopqrstuvwxyz')\n",
    "DICTIONARY = {}\n",
    "INDEX = {}\n",
    "for i in range(len(ALPHABET)):\n",
    "    DICTIONARY[ALPHABET[i]] = i + 1\n",
    "    INDEX[i + 1] = ALPHABET[i]\n",
    "    \n",
    "def twenty_seven_decimal(_string):\n",
    "    res = 0\n",
    "    for i in range(len(_string)): res = res + DICTIONARY[_string[i]]*pow(27, len(_string) - 1 - i)\n",
    "    return res    \n",
    "    \n",
    "def translation(_tsd):\n",
    "    string = ''\n",
    "    while(True):\n",
    "        r = _tsd%27\n",
    "        _tsd = int(_tsd/27)\n",
    "        string = \"{index}{origin}\".format(index = INDEX[r], origin = string)\n",
    "        if _tsd == 0: return string\n",
    "        \n",
    "if __name__ == '__main__':\n",
    "    TEST = int(input())\n",
    "    for i in range(TEST):\n",
    "        N = int(input())\n",
    "        s = set()\n",
    "        for _ in range(N): s.add(twenty_seven_decimal(input()))\n",
    "        l = sorted(s)\n",
    "        print('#' + str(i + 1))\n",
    "        for j in range(len(s)): print(translation(l[j]))"
   ]
  },
  {
   "cell_type": "code",
   "execution_count": null,
   "metadata": {
    "collapsed": true
   },
   "outputs": [],
   "source": []
  },
  {
   "cell_type": "code",
   "execution_count": null,
   "metadata": {},
   "outputs": [],
   "source": []
  },
  {
   "cell_type": "code",
   "execution_count": null,
   "metadata": {
    "collapsed": true
   },
   "outputs": [],
   "source": []
  },
  {
   "cell_type": "code",
   "execution_count": null,
   "metadata": {
    "collapsed": true
   },
   "outputs": [],
   "source": []
  },
  {
   "cell_type": "code",
   "execution_count": null,
   "metadata": {
    "collapsed": true
   },
   "outputs": [],
   "source": []
  }
 ],
 "metadata": {
  "kernelspec": {
   "display_name": "Python 3",
   "language": "python",
   "name": "python3"
  },
  "language_info": {
   "codemirror_mode": {
    "name": "ipython",
    "version": 3
   },
   "file_extension": ".py",
   "mimetype": "text/x-python",
   "name": "python",
   "nbconvert_exporter": "python",
   "pygments_lexer": "ipython3",
   "version": "3.6.2"
  }
 },
 "nbformat": 4,
 "nbformat_minor": 2
}
