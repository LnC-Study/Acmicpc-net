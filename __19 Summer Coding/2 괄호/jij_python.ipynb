{
 "cells": [
  {
   "cell_type": "code",
   "execution_count": 2,
   "metadata": {},
   "outputs": [
    {
     "name": "stdout",
     "output_type": "stream",
     "text": [
      "5\n",
      "['((((()))))', '(((()())))', '(((())()))', '(((()))())', '(((())))()', '((()(())))', '((()()()))', '((()())())', '((()()))()', '((())(()))', '((())()())', '((())())()', '((()))(())', '((()))()()', '(()((())))', '(()(()()))', '(()(())())', '(()(()))()', '(()()(()))', '(()()()())', '(()()())()', '(()())(())', '(()())()()', '(())((()))', '(())(()())', '(())(())()', '(())()(())', '(())()()()', '()(((())))', '()((()()))', '()((())())', '()((()))()', '()(()(()))', '()(()()())', '()(()())()', '()(())(())', '()(())()()', '()()((()))', '()()(()())', '()()(())()', '()()()(())', '()()()()()']\n"
     ]
    }
   ],
   "source": [
    "from itertools import permutations\n",
    "\n",
    "DICTIONARY = {1:'(', 2:')'}\n",
    "\n",
    "def data_in():\n",
    "    N = int(input())\n",
    "    elements = [1] * N\n",
    "    for _ in range(N): elements.append(2)\n",
    "    S = permutations(elements, 2*N)\n",
    "    return N, S\n",
    "\n",
    "# Deduplication on preserving order\n",
    "def remove_duplicates(_S):\n",
    "    my_set = set()\n",
    "    res = []\n",
    "    for e in _S:\n",
    "        if e not in my_set:\n",
    "            res.append(e)\n",
    "            my_set.add(e)\n",
    "    return res\n",
    "\n",
    "def check(_subset):\n",
    "    state = 0\n",
    "    for e in _subset:\n",
    "        if e == 1: state = state + 1\n",
    "        else: state = state - 1\n",
    "        if state == -1: return False\n",
    "    return True\n",
    "\n",
    "if __name__ == '__main__':\n",
    "    N, S = data_in()\n",
    "    S = remove_duplicates(S)\n",
    "    result = []\n",
    "    for subset in S:\n",
    "        if check(subset):\n",
    "            string = ''\n",
    "            for e in subset:\n",
    "                string = string + DICTIONARY[e]\n",
    "            result.append(string)\n",
    "    print(result)"
   ]
  },
  {
   "cell_type": "code",
   "execution_count": null,
   "metadata": {
    "collapsed": true
   },
   "outputs": [],
   "source": []
  },
  {
   "cell_type": "code",
   "execution_count": null,
   "metadata": {
    "collapsed": true
   },
   "outputs": [],
   "source": []
  }
 ],
 "metadata": {
  "kernelspec": {
   "display_name": "Python 3",
   "language": "python",
   "name": "python3"
  },
  "language_info": {
   "codemirror_mode": {
    "name": "ipython",
    "version": 3
   },
   "file_extension": ".py",
   "mimetype": "text/x-python",
   "name": "python",
   "nbconvert_exporter": "python",
   "pygments_lexer": "ipython3",
   "version": "3.6.2"
  }
 },
 "nbformat": 4,
 "nbformat_minor": 2
}
