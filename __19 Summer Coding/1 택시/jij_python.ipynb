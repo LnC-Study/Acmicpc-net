{
 "cells": [
  {
   "cell_type": "code",
   "execution_count": 17,
   "metadata": {},
   "outputs": [
    {
     "name": "stdout",
     "output_type": "stream",
     "text": [
      "2\n",
      "1\n",
      "2\n"
     ]
    }
   ],
   "source": [
    "def data_in(path):\n",
    "    f = open(path, 'r')\n",
    "    contents = f.read()\n",
    "    s = []\n",
    "    for i in range(len(contents)):\n",
    "        if i%2 == 1:\n",
    "            s.append(int(contents[i]))\n",
    "    f.close()\n",
    "    return s\n",
    "\n",
    "def sol(_s):\n",
    "    _s.sort()\n",
    "    head, rear, taxi, tempSum = 0, len(_s) - 1, 0, 0\n",
    "    while(head <= rear):\n",
    "        if head == rear:\n",
    "            if tempSum + _s[head] > 4:\n",
    "                taxi = taxi + 2\n",
    "            else:\n",
    "                taxi = taxi + 1\n",
    "            break\n",
    "        tempSum = tempSum + _s[head] + _s[rear]\n",
    "        if tempSum == 4:\n",
    "            head = head + 1\n",
    "            rear = rear - 1\n",
    "            taxi = taxi + 1\n",
    "            tempSum = 0\n",
    "        elif tempSum > 4:\n",
    "            rear = rear - 1\n",
    "            taxi = taxi + 1\n",
    "            tempSum = 0\n",
    "        else:\n",
    "            _s[rear] = 0\n",
    "            head = head + 1\n",
    "    print(taxi)\n",
    "\n",
    "if __name__ == '__main__':\n",
    "    s1 = data_in(\"./res/summer01_input02.txt\")  # input = [2,1,2]\n",
    "    s2 = data_in(\"./res/summer01_input03.txt\")  # input = [1,1,1,1]\n",
    "    s3 = data_in(\"./res/summer01_input04.txt\")  # input = [1,1,1,1,1,1,1]\n",
    "    sol(s1)\n",
    "    sol(s2)\n",
    "    sol(s3)"
   ]
  },
  {
   "cell_type": "code",
   "execution_count": null,
   "metadata": {
    "collapsed": true
   },
   "outputs": [],
   "source": []
  }
 ],
 "metadata": {
  "kernelspec": {
   "display_name": "Python 3",
   "language": "python",
   "name": "python3"
  },
  "language_info": {
   "codemirror_mode": {
    "name": "ipython",
    "version": 3
   },
   "file_extension": ".py",
   "mimetype": "text/x-python",
   "name": "python",
   "nbconvert_exporter": "python",
   "pygments_lexer": "ipython3",
   "version": "3.6.2"
  }
 },
 "nbformat": 4,
 "nbformat_minor": 2
}
