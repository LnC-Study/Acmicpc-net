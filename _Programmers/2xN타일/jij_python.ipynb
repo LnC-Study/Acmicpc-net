{
 "cells": [
  {
   "cell_type": "code",
   "execution_count": 23,
   "metadata": {},
   "outputs": [
    {
     "name": "stdout",
     "output_type": "stream",
     "text": [
      "4\n",
      "5\n"
     ]
    }
   ],
   "source": [
    "from math import factorial\n",
    "\n",
    "def data_in():\n",
    "    n = int(input())\n",
    "    return n\n",
    "\n",
    "def checkProb(_n):\n",
    "    if _n - 2 >= 0: return True\n",
    "    else: return False\n",
    "    \n",
    "def solution(_n):\n",
    "    if _n == 0: return 0\n",
    "    answer, a, b = 1, _n, 0\n",
    "    while checkProb(a):\n",
    "        a = a - 2\n",
    "        b = b + 1\n",
    "        answer = answer + int(factorial(a+b)/(factorial(a) * factorial(b)))\n",
    "    return answer % 1000000007\n",
    "        \n",
    "if __name__ == '__main__':\n",
    "    n = data_in()\n",
    "    print(solution(n))\n",
    "    "
   ]
  },
  {
   "cell_type": "code",
   "execution_count": null,
   "metadata": {},
   "outputs": [],
   "source": []
  },
  {
   "cell_type": "code",
   "execution_count": null,
   "metadata": {},
   "outputs": [],
   "source": []
  }
 ],
 "metadata": {
  "kernelspec": {
   "display_name": "Python 3",
   "language": "python",
   "name": "python3"
  },
  "language_info": {
   "codemirror_mode": {
    "name": "ipython",
    "version": 3
   },
   "file_extension": ".py",
   "mimetype": "text/x-python",
   "name": "python",
   "nbconvert_exporter": "python",
   "pygments_lexer": "ipython3",
   "version": "3.7.3"
  }
 },
 "nbformat": 4,
 "nbformat_minor": 2
}
