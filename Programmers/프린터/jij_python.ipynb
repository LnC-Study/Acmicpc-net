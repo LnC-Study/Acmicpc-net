{
 "cells": [
  {
   "cell_type": "code",
   "execution_count": 4,
   "metadata": {},
   "outputs": [
    {
     "name": "stdout",
     "output_type": "stream",
     "text": [
      "1 1 9 1 1 1\n",
      "0\n",
      "5\n"
     ]
    }
   ],
   "source": [
    "def data_in():\n",
    "    priorities = list(map(int, input().split()))\n",
    "    location = int(input())\n",
    "    return priorities, location\n",
    "\n",
    "def make_table(_priorities):\n",
    "    _table=[[], [], [], [], [], [], [], [], [], []]\n",
    "    for i in range(len(_priorities)):\n",
    "        _table[_priorities[i]].append(i)\n",
    "    return _table\n",
    "\n",
    "def find_last(_list, _cur):\n",
    "    for i in range(len(_list)):\n",
    "        if _cur <= _list[i]:\n",
    "            return _list[i-1], i-1\n",
    "    return _list[-1], len(_list)-1\n",
    "        \n",
    "def sol(_location, _target, _table):\n",
    "    cur, cur_index, count = 0, 0, 1\n",
    "    for i in range(9, 0, -1):\n",
    "        if len(_table[i])==0:\n",
    "            continue\n",
    "        if i == _target:\n",
    "            _, cur_index = find_last(_table[i], cur)\n",
    "            cur_index = (cur_index + 1) % len(_table[i])\n",
    "            for _ in range(len(table[i])):\n",
    "                if _table[i][cur_index] == _location:\n",
    "                    return count\n",
    "                else:\n",
    "                    count = count + 1\n",
    "                    cur_index = (cur_index + 1) % len(_table[i])\n",
    "        count = count + len(_table[i])\n",
    "        cur, cur_index = find_last(_table[i], cur)\n",
    "    return count\n",
    "            \n",
    "if __name__=='__main__':\n",
    "    priorities, location = data_in()\n",
    "    target = priorities[location]\n",
    "    table = make_table(priorities)\n",
    "    print(sol(location, target, table))"
   ]
  },
  {
   "cell_type": "code",
   "execution_count": null,
   "metadata": {},
   "outputs": [],
   "source": []
  },
  {
   "cell_type": "code",
   "execution_count": null,
   "metadata": {},
   "outputs": [],
   "source": []
  }
 ],
 "metadata": {
  "kernelspec": {
   "display_name": "Python 3",
   "language": "python",
   "name": "python3"
  },
  "language_info": {
   "codemirror_mode": {
    "name": "ipython",
    "version": 3
   },
   "file_extension": ".py",
   "mimetype": "text/x-python",
   "name": "python",
   "nbconvert_exporter": "python",
   "pygments_lexer": "ipython3",
   "version": "3.7.3"
  }
 },
 "nbformat": 4,
 "nbformat_minor": 2
}
