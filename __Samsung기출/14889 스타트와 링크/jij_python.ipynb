{
 "cells": [
  {
   "cell_type": "code",
   "execution_count": 55,
   "metadata": {},
   "outputs": [
    {
     "name": "stdout",
     "output_type": "stream",
     "text": [
      "6\n",
      "0 1 2 3 4 5\n",
      "1 0 2 3 4 5\n",
      "1 2 0 3 4 5\n",
      "1 2 3 0 4 5\n",
      "1 2 3 4 0 5\n",
      "1 2 3 4 5 0\n",
      "2\n"
     ]
    }
   ],
   "source": [
    "from itertools import permutations\n",
    "from itertools import combinations\n",
    "\n",
    "def data_in():\n",
    "    N = int(input())\n",
    "    stat = list(list(map(int, input().split())) for _ in range(N))\n",
    "    member = list(i for i in range(N))\n",
    "    return N, stat, member\n",
    "\n",
    "def sol(_N, _stat, _member):\n",
    "    result = 100000\n",
    "    comb = list(combinations(_member, int(_N/2)))\n",
    "    for c in comb:\n",
    "        c2 = list(set(_member) - set(c))\n",
    "        tempStat = list(permutations(c, 2))\n",
    "        tempStat2 = list(permutations(c2, 2))\n",
    "        tempResult = 0\n",
    "        tempResult2 = 0\n",
    "        for p in tempStat:\n",
    "            tempResult = tempResult + _stat[p[0]][p[1]]\n",
    "        for p in tempStat2:\n",
    "            tempResult2 = tempResult2 + _stat[p[0]][p[1]]\n",
    "        if abs(tempResult - tempResult2) < result:\n",
    "            result = abs(tempResult - tempResult2)\n",
    "    return result\n",
    "\n",
    "if __name__ == '__main__':\n",
    "    N, stat, member = data_in()\n",
    "    minDifference = sol(N, stat, member);\n",
    "    print(minDifference)"
   ]
  }
 ],
 "metadata": {
  "kernelspec": {
   "display_name": "Python 3",
   "language": "python",
   "name": "python3"
  },
  "language_info": {
   "codemirror_mode": {
    "name": "ipython",
    "version": 3
   },
   "file_extension": ".py",
   "mimetype": "text/x-python",
   "name": "python",
   "nbconvert_exporter": "python",
   "pygments_lexer": "ipython3",
   "version": "3.6.2"
  }
 },
 "nbformat": 4,
 "nbformat_minor": 2
}
