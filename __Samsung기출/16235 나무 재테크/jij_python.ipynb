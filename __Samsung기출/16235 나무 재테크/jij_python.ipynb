{
 "cells": [
  {
   "cell_type": "code",
   "execution_count": 10,
   "metadata": {
    "scrolled": true
   },
   "outputs": [
    {
     "name": "stdout",
     "output_type": "stream",
     "text": [
      "5 2 6\n",
      "2 3 2 3 2\n",
      "2 3 2 3 2\n",
      "2 3 2 3 2\n",
      "2 3 2 3 2\n",
      "2 3 2 3 2\n",
      "2 1 3\n",
      "3 2 3\n",
      "85\n"
     ]
    }
   ],
   "source": [
    "from itertools import product\n",
    "\n",
    "class Tree:\n",
    "    def __init__(self, _row, _col, _age):\n",
    "        self.row, self.col, self.age = _row, _col, _age\n",
    "\n",
    "def data_in():\n",
    "    N, M, K = map(int, input().split())\n",
    "    food = list(list(map(int, input().split())) for i in range(N))\n",
    "    for i in range(M):\n",
    "        row, col, AGE = map(int, input().split())\n",
    "        newTree = Tree(row - 1, col - 1, AGE)\n",
    "        alive.append(newTree)\n",
    "    return N, M, K, list(list(5 for i in range(N)) for i in range(N)), food, alive\n",
    "\n",
    "def spring(_alive, _death, _spread, _ground):\n",
    "    for t in _alive:\n",
    "        if _ground[t.row][t.col] >= t.age:\n",
    "            _ground[t.row][t.col] = _ground[t.row][t.col] - t.age\n",
    "            t.age = t.age + 1\n",
    "            if t.age % 5 == 0:\n",
    "                _spread.append(t)\n",
    "        else:\n",
    "            _death.append(t)\n",
    "    for d in  death:\n",
    "        _alive.remove(d)\n",
    "    return _alive, _death, _spread, _ground\n",
    "\n",
    "def summer(_death, _ground):\n",
    "    for _ in range(len(_death)):\n",
    "        t = _death.pop()\n",
    "        row, col, feed = t.row, t.col, t.age//2\n",
    "        _ground[row][col] = _ground[row][col] + feed\n",
    "    return _death, _ground\n",
    "\n",
    "def fall(_alive, _spread):\n",
    "    for _ in range(len(_spread)):\n",
    "        t = _spread.pop()\n",
    "        setOfLocationRow, setOfLocationCol = [t.row - 1, t.row, t.row + 1], [t.col - 1, t.col, t.col + 1]\n",
    "        for newLocation in list(product(setOfLocationRow, setOfLocationCol)):\n",
    "            if not((newLocation[0] in [-1, N] or newLocation[1] in [-1, N] or (newLocation[0] == t.row and newLocation[1] == t.col))):\n",
    "                newTree = Tree(newLocation[0], newLocation[1], 1)\n",
    "                _alive.insert(0, newTree)\n",
    "    return _alive, _spread\n",
    "\n",
    "def winter(_ground, _food):\n",
    "    return list(list(map(lambda a: a[0] + a[1], zip(_ground[i], _food[i]))) for i in range (N))\n",
    "\n",
    "if __name__ == '__main__':\n",
    "    alive, death, spread = [], [], []\n",
    "    N, M, K, ground, food, alive = data_in()\n",
    "    alive.sort(key=lambda object: object.age)\n",
    "    \n",
    "    for i in range(K):\n",
    "        # spring\n",
    "        alive, death, spread, ground = spring(alive, death, spread, ground)\n",
    "        # summer\n",
    "        death, ground = summer(death, ground)\n",
    "        # fall\n",
    "        alive, spread = fall(alive, spread)\n",
    "        # winter\n",
    "        ground = winter(ground, food)\n",
    "    \n",
    "    print(len(alive))"
   ]
  },
  {
   "cell_type": "code",
   "execution_count": null,
   "metadata": {
    "collapsed": true
   },
   "outputs": [],
   "source": []
  }
 ],
 "metadata": {
  "kernelspec": {
   "display_name": "Python 3",
   "language": "python",
   "name": "python3"
  },
  "language_info": {
   "codemirror_mode": {
    "name": "ipython",
    "version": 3
   },
   "file_extension": ".py",
   "mimetype": "text/x-python",
   "name": "python",
   "nbconvert_exporter": "python",
   "pygments_lexer": "ipython3",
   "version": "3.6.2"
  }
 },
 "nbformat": 4,
 "nbformat_minor": 2
}
