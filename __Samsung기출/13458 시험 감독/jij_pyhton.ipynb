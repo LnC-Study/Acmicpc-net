{
 "cells": [
  {
   "cell_type": "code",
   "execution_count": 1,
   "metadata": {
    "collapsed": true
   },
   "outputs": [],
   "source": [
    "def data_in():\n",
    "    N = int(input())\n",
    "    A = list(map(int, input().split()))\n",
    "    B, C = map(int, input().split())\n",
    "    return N, A, B, C\n",
    "\n",
    "def solve(N, A, B, C):\n",
    "    length = len(A)\n",
    "    result = 0\n",
    "    for i in range(length):\n",
    "        result = result + 1\n",
    "        current = A[i] - B\n",
    "        if current < 0:\n",
    "            continue\n",
    "        if current % C == 0:\n",
    "            result = result + int(current / C)\n",
    "        else:\n",
    "            result = result + int(current / C) + 1\n",
    "    return result\n",
    "\n",
    "if __name__ == '__main__':\n",
    "    N, A, B, C = data_in()\n",
    "    result = solve(N, A, B, C)\n",
    "    print(result)"
   ]
  },
  {
   "cell_type": "code",
   "execution_count": 6,
   "metadata": {},
   "outputs": [],
   "source": []
  },
  {
   "cell_type": "code",
   "execution_count": 11,
   "metadata": {},
   "outputs": [
    {
     "name": "stdout",
     "output_type": "stream",
     "text": [
      "5\n",
      "10 9 10 9 10\n",
      "7 2\n",
      "13\n"
     ]
    }
   ],
   "source": []
  },
  {
   "cell_type": "code",
   "execution_count": null,
   "metadata": {
    "collapsed": true
   },
   "outputs": [],
   "source": []
  },
  {
   "cell_type": "code",
   "execution_count": null,
   "metadata": {
    "collapsed": true
   },
   "outputs": [],
   "source": []
  },
  {
   "cell_type": "code",
   "execution_count": null,
   "metadata": {
    "collapsed": true
   },
   "outputs": [],
   "source": []
  }
 ],
 "metadata": {
  "kernelspec": {
   "display_name": "Python 3",
   "language": "python",
   "name": "python3"
  },
  "language_info": {
   "codemirror_mode": {
    "name": "ipython",
    "version": 3
   },
   "file_extension": ".py",
   "mimetype": "text/x-python",
   "name": "python",
   "nbconvert_exporter": "python",
   "pygments_lexer": "ipython3",
   "version": "3.6.2"
  }
 },
 "nbformat": 4,
 "nbformat_minor": 2
}
