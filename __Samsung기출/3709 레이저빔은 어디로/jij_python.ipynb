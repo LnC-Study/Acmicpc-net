{
 "cells": [
  {
   "cell_type": "code",
   "execution_count": null,
   "metadata": {},
   "outputs": [
    {
     "name": "stdout",
     "output_type": "stream",
     "text": [
      "2\n",
      "2 3\n",
      "1 1\n",
      "1 2\n",
      "2 2\n",
      "3 1\n",
      "3 6\n",
      "1 1\n",
      "1 3\n",
      "2 2\n",
      "2 3\n",
      "3 1\n",
      "3 2\n",
      "2 0\n",
      "2 0\n",
      "0 2\n"
     ]
    }
   ],
   "source": [
    "DIRECTIONS = {0: [0, -1], 1: [-1, 0], 2: [0, 1], 3: [1, 0]}\n",
    "\n",
    "def data_in():\n",
    "    S, M = map(int, input().split())\n",
    "    board = list(list(0 for _ in range(S + 2)) for _ in range(S + 2))\n",
    "    for _ in range(M):\n",
    "        mirror_row, mirror_col = map(int, input().split())\n",
    "        board[mirror_row][mirror_col] = 1\n",
    "    raser = list(map(int, input().split()))\n",
    "    return  S, M, board, raser\n",
    "\n",
    "def find_dir(_S, _raser, _direction):\n",
    "    if _direction != -1:\n",
    "        return (_direction + 1) % 4\n",
    "    else:\n",
    "        if _raser[0] == 0: return 3\n",
    "        elif _raser[0] == (_S + 1): return 1\n",
    "        elif _raser[1] == 0: return  2\n",
    "        elif _raser[1] == (_S + 1): return  0\n",
    "\n",
    "def look_up(_S, _board, _raser, _direction):\n",
    "    _next = _raser\n",
    "    for _ in range(_S):\n",
    "        _next = [_next[0] + DIRECTIONS[_direction][0], _next[1] + DIRECTIONS[_direction][1]]\n",
    "        if _next[0] in [0, _S + 2] or _next[1] in [0, _S + 2] or _board[_next[0]][_next[1]] != 0: break  \n",
    "    return [[_raser[0], _raser[1]], [_next[0], _next[1]]], [_next[0], _next[1]]\n",
    "\n",
    "def solve(_S, _M, _board, _raser):\n",
    "    edge = []\n",
    "    _direction = find_dir(_S, _raser, -1)\n",
    "    while True:\n",
    "        e, _raser = look_up(_S, _board, _raser, _direction)\n",
    "        if _raser[0] in [0, _S + 1] or _raser[1] in [0, _S + 1]:\n",
    "            break\n",
    "        if e not in edge:\n",
    "            edge.append(e)\n",
    "            _direction = find_dir(_S, _raser, _direction)\n",
    "        else:\n",
    "            return [0, 0]\n",
    "    return [_raser[0], _raser[1]]\n",
    "\n",
    "if __name__ == '__main__':\n",
    "    N = int(input())\n",
    "    result = []\n",
    "    for _ in range(N):\n",
    "        S, M, board, raser = data_in()\n",
    "        result.append(solve(S, M, board, raser))\n",
    "    for i in range(len(result)):\n",
    "        print(result[i][0], result[i][1])"
   ]
  },
  {
   "cell_type": "code",
   "execution_count": null,
   "metadata": {
    "collapsed": true
   },
   "outputs": [],
   "source": []
  },
  {
   "cell_type": "code",
   "execution_count": null,
   "metadata": {
    "collapsed": true
   },
   "outputs": [],
   "source": []
  }
 ],
 "metadata": {
  "kernelspec": {
   "display_name": "Python 3",
   "language": "python",
   "name": "python3"
  },
  "language_info": {
   "codemirror_mode": {
    "name": "ipython",
    "version": 3
   },
   "file_extension": ".py",
   "mimetype": "text/x-python",
   "name": "python",
   "nbconvert_exporter": "python",
   "pygments_lexer": "ipython3",
   "version": "3.6.2"
  }
 },
 "nbformat": 4,
 "nbformat_minor": 2
}
