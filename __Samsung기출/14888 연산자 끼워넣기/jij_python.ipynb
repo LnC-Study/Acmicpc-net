{
 "cells": [
  {
   "cell_type": "code",
   "execution_count": 4,
   "metadata": {},
   "outputs": [
    {
     "name": "stdout",
     "output_type": "stream",
     "text": [
      "6\n",
      "1 2 3 4 5 6\n",
      "2 1 1 1\n",
      "54\n",
      "-24\n"
     ]
    }
   ],
   "source": [
    "from itertools import permutations\n",
    "\n",
    "def data_in():\n",
    "    N = int(input())\n",
    "    operands = list(map(int, input().split()))\n",
    "    operator = list(map(int, input().split()))\n",
    "    return N, operands, operator\n",
    "\n",
    "def cal(N, operands, operator):\n",
    "    max = -1000000000\n",
    "    min = 1000000000\n",
    "    per = []\n",
    "    for _ in range(operator[0]):\n",
    "        per.append('add')\n",
    "    for _ in range(operator[1]):\n",
    "        per.append('dif')\n",
    "    for _ in range(operator[2]):\n",
    "        per.append('mult')\n",
    "    for _ in range(operator[3]):\n",
    "        per.append('div')\n",
    "    per = list(permutations(per, len(per)))\n",
    "    for e in per:\n",
    "        result = operands[0]\n",
    "        for i in range(N - 1):\n",
    "            if e[i] == 'add':\n",
    "                result = result + operands[i+1]\n",
    "                continue\n",
    "            if e[i] == 'dif':\n",
    "                result = result - operands[i+1]\n",
    "                continue\n",
    "            if e[i] == 'mult':\n",
    "                result = result * operands[i+1]\n",
    "                continue\n",
    "            if e[i] == 'div':\n",
    "                result = int(result / operands[i+1])\n",
    "                continue\n",
    "        if result > max:\n",
    "            max = result\n",
    "        if result < min:\n",
    "            min = result\n",
    "    return max, min\n",
    "\n",
    "if __name__ == '__main__':\n",
    "    N, operands, operator = data_in()\n",
    "    max, min = cal(N, operands, operator)\n",
    "    print(max)\n",
    "    print(min)"
   ]
  }
 ],
 "metadata": {
  "kernelspec": {
   "display_name": "Python 3",
   "language": "python",
   "name": "python3"
  },
  "language_info": {
   "codemirror_mode": {
    "name": "ipython",
    "version": 3
   },
   "file_extension": ".py",
   "mimetype": "text/x-python",
   "name": "python",
   "nbconvert_exporter": "python",
   "pygments_lexer": "ipython3",
   "version": "3.6.2"
  }
 },
 "nbformat": 4,
 "nbformat_minor": 2
}
